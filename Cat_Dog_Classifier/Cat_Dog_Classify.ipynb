{
 "cells": [
  {
   "cell_type": "code",
   "execution_count": null,
   "id": "7a1957fc-e810-4e02-9eb8-695edb0342c8",
   "metadata": {},
   "outputs": [],
   "source": [
    "# !pip install tensorflow matplotlib"
   ]
  },
  {
   "cell_type": "code",
   "execution_count": 14,
   "id": "a18b7d4a-4977-4234-8dcc-93b276df52f3",
   "metadata": {},
   "outputs": [
    {
     "name": "stdout",
     "output_type": "stream",
     "text": [
      "Filename                       Prediction     \n",
      "------------------------------------------------------------\n",
      "c1.jpg                         Cat            \n"
     ]
    }
   ],
   "source": [
    "import tensorflow as tf\n",
    "import numpy as np\n",
    "import os\n",
    "from tensorflow.keras.applications.mobilenet_v2 import preprocess_input, decode_predictions\n",
    "from tensorflow.keras.preprocessing import image\n",
    "\n",
    "# Path to the folder containing the cat/dog images\n",
    "folder_path = r'C:\\_BigDataCourses\\_Projects\\Cat_Dog'\n",
    "\n",
    "# Load the pre-trained MobileNetV2 model using ImageNet weights\n",
    "# This model can classify 1000 different objects, including various breeds of cats and dogs\n",
    "model = tf.keras.applications.MobileNetV2(weights='imagenet')\n",
    "\n",
    "# Print a formatted table header for the output\n",
    "print(f\"{'Filename':<30} {'Prediction':<15}\")\n",
    "print(\"-\" * 60)\n",
    "\n",
    "# Loop through each file in the folder\n",
    "for filename in os.listdir(folder_path):\n",
    "    # Only process image files with common image extensions\n",
    "    if filename.lower().endswith(('.jpg', '.jpeg', '.png')):\n",
    "        # Build the full file path\n",
    "        img_path = os.path.join(folder_path, filename)\n",
    "\n",
    "        # Load the image and resize it to 224x224 pixels (required input size for MobileNetV2)\n",
    "        img = image.load_img(img_path, target_size=(224, 224))\n",
    "\n",
    "        # Convert the image to a NumPy array\n",
    "        img_array = image.img_to_array(img)\n",
    "        \n",
    "        # Add an extra dimension to simulate a batch of size 1\n",
    "        img_batch = np.expand_dims(img_array, axis=0)\n",
    "        \n",
    "        # Preprocess the image to match MobileNetV2 input format\n",
    "        img_preprocessed = preprocess_input(img_batch)\n",
    "        \n",
    "        # Run the image through the model to get predictions\n",
    "        predictions = model.predict(img_preprocessed, verbose=0)\n",
    "        \n",
    "        # Decode the top prediction into a human-readable label score\n",
    "        decoded = decode_predictions(predictions, top=1)[0]\n",
    "        \n",
    "        # Get the top predicted label (e.g., 'Egyptian_cat', 'golden_retriever', etc.)\n",
    "        top_label = decoded[0][1].lower()\n",
    "\n",
    "        # Classify based on label keyword\n",
    "        if 'cat' in top_label:\n",
    "            label = 'Cat'\n",
    "        elif 'dog' in top_label:\n",
    "            label = 'Dog'\n",
    "        else:\n",
    "            # If not clearly a cat or dog, mark as 'Uncertain'\n",
    "            label = f'Uncertain ({top_label})'\n",
    "\n",
    "        # Print the result in a clean, aligned format\n",
    "        print(f\"{filename:<30} {label:<15}\")\n"
   ]
  }
 ],
 "metadata": {
  "kernelspec": {
   "display_name": "Python 3 (ipykernel)",
   "language": "python",
   "name": "python3"
  },
  "language_info": {
   "codemirror_mode": {
    "name": "ipython",
    "version": 3
   },
   "file_extension": ".py",
   "mimetype": "text/x-python",
   "name": "python",
   "nbconvert_exporter": "python",
   "pygments_lexer": "ipython3",
   "version": "3.10.16"
  },
  "widgets": {
   "application/vnd.jupyter.widget-state+json": {
    "state": {},
    "version_major": 2,
    "version_minor": 0
   }
  }
 },
 "nbformat": 4,
 "nbformat_minor": 5
}
